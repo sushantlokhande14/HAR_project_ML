{
 "cells": [
  {
   "cell_type": "markdown",
   "id": "5d208d58-9bec-4b90-80eb-2479412ea4ba",
   "metadata": {},
   "source": [
    "# Step 1.1: Load the Data\n",
    "We start by loading the data \n",
    "\n",
    "- **X_train.txt & X_test.txt**: Sensor readings (features).\n",
    "- **y_train.txt & y_test.txt**: Labels (activities).\n",
    "- **subject_train.txt & subject_test.txt**: Subject IDs (who performed the activity).\n",
    "- **features.txt**: Feature names (names of the 561 sensor readings).\n",
    "- **activity_labels.txt**: Activity names corresponding to the labels."
   ]
  },
  {
   "cell_type": "markdown",
   "id": "08c17d99-b9d6-453b-9344-251842136a4f",
   "metadata": {},
   "source": [
    "**Importing Libraries**"
   ]
  },
  {
   "cell_type": "code",
   "execution_count": 62,
   "id": "4919ae48-b7f9-4799-9797-9b234dd3284a",
   "metadata": {},
   "outputs": [],
   "source": [
    "import pandas as pd\n",
    "import matplotlib.pyplot as plt\n",
    "import seaborn as sns"
   ]
  },
  {
   "cell_type": "markdown",
   "id": "cdc66736-67c9-45c0-9d0c-473f98d6fd64",
   "metadata": {},
   "source": [
    "**Loading data by reading CSV**"
   ]
  },
  {
   "cell_type": "code",
   "execution_count": 64,
   "id": "6f7aaeae-a897-413c-b423-52ead547d6f9",
   "metadata": {},
   "outputs": [
    {
     "name": "stderr",
     "output_type": "stream",
     "text": [
      "C:\\Users\\susha\\AppData\\Local\\Temp\\ipykernel_23712\\2269506216.py:2: FutureWarning: The 'delim_whitespace' keyword in pd.read_csv is deprecated and will be removed in a future version. Use ``sep='\\s+'`` instead\n",
      "  features = pd.read_csv('UCI HAR Dataset/features.txt', header=None, delim_whitespace=True)\n",
      "C:\\Users\\susha\\AppData\\Local\\Temp\\ipykernel_23712\\2269506216.py:3: FutureWarning: The 'delim_whitespace' keyword in pd.read_csv is deprecated and will be removed in a future version. Use ``sep='\\s+'`` instead\n",
      "  activity_labels = pd.read_csv('UCI HAR Dataset/activity_labels.txt', header=None, delim_whitespace=True)\n"
     ]
    }
   ],
   "source": [
    "# Load features and activity labels\n",
    "features = pd.read_csv('UCI HAR Dataset/features.txt', header=None, delim_whitespace=True)\n",
    "activity_labels = pd.read_csv('UCI HAR Dataset/activity_labels.txt', header=None, delim_whitespace=True)"
   ]
  },
  {
   "cell_type": "code",
   "execution_count": 65,
   "id": "fe57617c-8d19-4f9b-bf3d-93d62302cd5d",
   "metadata": {},
   "outputs": [
    {
     "name": "stderr",
     "output_type": "stream",
     "text": [
      "C:\\Users\\susha\\AppData\\Local\\Temp\\ipykernel_23712\\4178574152.py:2: FutureWarning: The 'delim_whitespace' keyword in pd.read_csv is deprecated and will be removed in a future version. Use ``sep='\\s+'`` instead\n",
      "  X_train = pd.read_csv('UCI HAR Dataset/train/X_train.txt', header=None, delim_whitespace=True)\n",
      "C:\\Users\\susha\\AppData\\Local\\Temp\\ipykernel_23712\\4178574152.py:3: FutureWarning: The 'delim_whitespace' keyword in pd.read_csv is deprecated and will be removed in a future version. Use ``sep='\\s+'`` instead\n",
      "  X_test = pd.read_csv('UCI HAR Dataset/test/X_test.txt', header=None, delim_whitespace=True)\n"
     ]
    }
   ],
   "source": [
    "# Load train and test data (features)\n",
    "X_train = pd.read_csv('UCI HAR Dataset/train/X_train.txt', header=None, delim_whitespace=True)\n",
    "X_test = pd.read_csv('UCI HAR Dataset/test/X_test.txt', header=None, delim_whitespace=True)"
   ]
  },
  {
   "cell_type": "code",
   "execution_count": 66,
   "id": "b17d571a-17ad-4fc3-9654-9748e09d01f8",
   "metadata": {},
   "outputs": [
    {
     "name": "stderr",
     "output_type": "stream",
     "text": [
      "C:\\Users\\susha\\AppData\\Local\\Temp\\ipykernel_23712\\3555008946.py:2: FutureWarning: The 'delim_whitespace' keyword in pd.read_csv is deprecated and will be removed in a future version. Use ``sep='\\s+'`` instead\n",
      "  y_train = pd.read_csv('UCI HAR Dataset/train/y_train.txt', header=None, delim_whitespace=True)\n",
      "C:\\Users\\susha\\AppData\\Local\\Temp\\ipykernel_23712\\3555008946.py:3: FutureWarning: The 'delim_whitespace' keyword in pd.read_csv is deprecated and will be removed in a future version. Use ``sep='\\s+'`` instead\n",
      "  y_test = pd.read_csv('UCI HAR Dataset/test/y_test.txt', header=None, delim_whitespace=True)\n"
     ]
    }
   ],
   "source": [
    "# Load train and test labels (activity IDs)\n",
    "y_train = pd.read_csv('UCI HAR Dataset/train/y_train.txt', header=None, delim_whitespace=True)\n",
    "y_test = pd.read_csv('UCI HAR Dataset/test/y_test.txt', header=None, delim_whitespace=True)"
   ]
  },
  {
   "cell_type": "code",
   "execution_count": 67,
   "id": "b1d4d7fb-1a27-4f53-b34e-96234e1c597d",
   "metadata": {},
   "outputs": [
    {
     "name": "stderr",
     "output_type": "stream",
     "text": [
      "C:\\Users\\susha\\AppData\\Local\\Temp\\ipykernel_23712\\509180530.py:2: FutureWarning: The 'delim_whitespace' keyword in pd.read_csv is deprecated and will be removed in a future version. Use ``sep='\\s+'`` instead\n",
      "  subject_train = pd.read_csv('UCI HAR Dataset/train/subject_train.txt', header=None, delim_whitespace=True)\n",
      "C:\\Users\\susha\\AppData\\Local\\Temp\\ipykernel_23712\\509180530.py:3: FutureWarning: The 'delim_whitespace' keyword in pd.read_csv is deprecated and will be removed in a future version. Use ``sep='\\s+'`` instead\n",
      "  subject_test = pd.read_csv('UCI HAR Dataset/test/subject_test.txt', header=None, delim_whitespace=True)\n"
     ]
    }
   ],
   "source": [
    "# Load train and test subject data (subject IDs)\n",
    "subject_train = pd.read_csv('UCI HAR Dataset/train/subject_train.txt', header=None, delim_whitespace=True)\n",
    "subject_test = pd.read_csv('UCI HAR Dataset/test/subject_test.txt', header=None, delim_whitespace=True)"
   ]
  },
  {
   "cell_type": "markdown",
   "id": "78348adc-88f2-43a0-b7e5-cd1ce9b3c76b",
   "metadata": {},
   "source": [
    "# Step 1.2: Understand the Structure of the Data\n",
    "Understanding the number of samples and features is important."
   ]
  },
  {
   "cell_type": "code",
   "execution_count": 69,
   "id": "623451d3-5407-40e2-bd78-273c88fb9445",
   "metadata": {},
   "outputs": [
    {
     "name": "stdout",
     "output_type": "stream",
     "text": [
      "X_train shape: (7352, 561)\n",
      "X_test shape: (2947, 561)\n",
      "y_train shape: (7352, 1)\n",
      "y_test shape: (2947, 1)\n",
      "subject_train shape: (7352, 1)\n",
      "subject_test shape: (2947, 1)\n"
     ]
    }
   ],
   "source": [
    "# Check the shape of the data\n",
    "print(f\"X_train shape: {X_train.shape}\")\n",
    "print(f\"X_test shape: {X_test.shape}\")\n",
    "print(f\"y_train shape: {y_train.shape}\")\n",
    "print(f\"y_test shape: {y_test.shape}\")\n",
    "print(f\"subject_train shape: {subject_train.shape}\")\n",
    "print(f\"subject_test shape: {subject_test.shape}\")"
   ]
  },
  {
   "cell_type": "markdown",
   "id": "b4fbfa66-2fd7-4ff5-8c47-4f26c7a39c56",
   "metadata": {},
   "source": [
    "# Step 1.3: Feature Names and Data Exploration\n",
    "To make the data more interpretable, I loaded the features.txt and assigned the feature names to the columns of X_train and X_test. I also visualized the first few rows to understand the data."
   ]
  },
  {
   "cell_type": "code",
   "execution_count": 71,
   "id": "a34dea3f-f121-476b-b861-d1904a12ccca",
   "metadata": {},
   "outputs": [],
   "source": [
    "# Assign column names to X_train and X_test from the features\n",
    "X_train.columns = features[1].values\n",
    "X_test.columns = features[1].values"
   ]
  },
  {
   "cell_type": "code",
   "execution_count": 72,
   "id": "b1764cdb-8a49-437e-bad1-396feb05bd0d",
   "metadata": {},
   "outputs": [
    {
     "data": {
      "text/html": [
       "<div>\n",
       "<style scoped>\n",
       "    .dataframe tbody tr th:only-of-type {\n",
       "        vertical-align: middle;\n",
       "    }\n",
       "\n",
       "    .dataframe tbody tr th {\n",
       "        vertical-align: top;\n",
       "    }\n",
       "\n",
       "    .dataframe thead th {\n",
       "        text-align: right;\n",
       "    }\n",
       "</style>\n",
       "<table border=\"1\" class=\"dataframe\">\n",
       "  <thead>\n",
       "    <tr style=\"text-align: right;\">\n",
       "      <th></th>\n",
       "      <th>tBodyAcc-mean()-X</th>\n",
       "      <th>tBodyAcc-mean()-Y</th>\n",
       "      <th>tBodyAcc-mean()-Z</th>\n",
       "      <th>tBodyAcc-std()-X</th>\n",
       "      <th>tBodyAcc-std()-Y</th>\n",
       "      <th>tBodyAcc-std()-Z</th>\n",
       "      <th>tBodyAcc-mad()-X</th>\n",
       "      <th>tBodyAcc-mad()-Y</th>\n",
       "      <th>tBodyAcc-mad()-Z</th>\n",
       "      <th>tBodyAcc-max()-X</th>\n",
       "      <th>...</th>\n",
       "      <th>fBodyBodyGyroJerkMag-meanFreq()</th>\n",
       "      <th>fBodyBodyGyroJerkMag-skewness()</th>\n",
       "      <th>fBodyBodyGyroJerkMag-kurtosis()</th>\n",
       "      <th>angle(tBodyAccMean,gravity)</th>\n",
       "      <th>angle(tBodyAccJerkMean),gravityMean)</th>\n",
       "      <th>angle(tBodyGyroMean,gravityMean)</th>\n",
       "      <th>angle(tBodyGyroJerkMean,gravityMean)</th>\n",
       "      <th>angle(X,gravityMean)</th>\n",
       "      <th>angle(Y,gravityMean)</th>\n",
       "      <th>angle(Z,gravityMean)</th>\n",
       "    </tr>\n",
       "  </thead>\n",
       "  <tbody>\n",
       "    <tr>\n",
       "      <th>0</th>\n",
       "      <td>0.288585</td>\n",
       "      <td>-0.020294</td>\n",
       "      <td>-0.132905</td>\n",
       "      <td>-0.995279</td>\n",
       "      <td>-0.983111</td>\n",
       "      <td>-0.913526</td>\n",
       "      <td>-0.995112</td>\n",
       "      <td>-0.983185</td>\n",
       "      <td>-0.923527</td>\n",
       "      <td>-0.934724</td>\n",
       "      <td>...</td>\n",
       "      <td>-0.074323</td>\n",
       "      <td>-0.298676</td>\n",
       "      <td>-0.710304</td>\n",
       "      <td>-0.112754</td>\n",
       "      <td>0.030400</td>\n",
       "      <td>-0.464761</td>\n",
       "      <td>-0.018446</td>\n",
       "      <td>-0.841247</td>\n",
       "      <td>0.179941</td>\n",
       "      <td>-0.058627</td>\n",
       "    </tr>\n",
       "    <tr>\n",
       "      <th>1</th>\n",
       "      <td>0.278419</td>\n",
       "      <td>-0.016411</td>\n",
       "      <td>-0.123520</td>\n",
       "      <td>-0.998245</td>\n",
       "      <td>-0.975300</td>\n",
       "      <td>-0.960322</td>\n",
       "      <td>-0.998807</td>\n",
       "      <td>-0.974914</td>\n",
       "      <td>-0.957686</td>\n",
       "      <td>-0.943068</td>\n",
       "      <td>...</td>\n",
       "      <td>0.158075</td>\n",
       "      <td>-0.595051</td>\n",
       "      <td>-0.861499</td>\n",
       "      <td>0.053477</td>\n",
       "      <td>-0.007435</td>\n",
       "      <td>-0.732626</td>\n",
       "      <td>0.703511</td>\n",
       "      <td>-0.844788</td>\n",
       "      <td>0.180289</td>\n",
       "      <td>-0.054317</td>\n",
       "    </tr>\n",
       "    <tr>\n",
       "      <th>2</th>\n",
       "      <td>0.279653</td>\n",
       "      <td>-0.019467</td>\n",
       "      <td>-0.113462</td>\n",
       "      <td>-0.995380</td>\n",
       "      <td>-0.967187</td>\n",
       "      <td>-0.978944</td>\n",
       "      <td>-0.996520</td>\n",
       "      <td>-0.963668</td>\n",
       "      <td>-0.977469</td>\n",
       "      <td>-0.938692</td>\n",
       "      <td>...</td>\n",
       "      <td>0.414503</td>\n",
       "      <td>-0.390748</td>\n",
       "      <td>-0.760104</td>\n",
       "      <td>-0.118559</td>\n",
       "      <td>0.177899</td>\n",
       "      <td>0.100699</td>\n",
       "      <td>0.808529</td>\n",
       "      <td>-0.848933</td>\n",
       "      <td>0.180637</td>\n",
       "      <td>-0.049118</td>\n",
       "    </tr>\n",
       "    <tr>\n",
       "      <th>3</th>\n",
       "      <td>0.279174</td>\n",
       "      <td>-0.026201</td>\n",
       "      <td>-0.123283</td>\n",
       "      <td>-0.996091</td>\n",
       "      <td>-0.983403</td>\n",
       "      <td>-0.990675</td>\n",
       "      <td>-0.997099</td>\n",
       "      <td>-0.982750</td>\n",
       "      <td>-0.989302</td>\n",
       "      <td>-0.938692</td>\n",
       "      <td>...</td>\n",
       "      <td>0.404573</td>\n",
       "      <td>-0.117290</td>\n",
       "      <td>-0.482845</td>\n",
       "      <td>-0.036788</td>\n",
       "      <td>-0.012892</td>\n",
       "      <td>0.640011</td>\n",
       "      <td>-0.485366</td>\n",
       "      <td>-0.848649</td>\n",
       "      <td>0.181935</td>\n",
       "      <td>-0.047663</td>\n",
       "    </tr>\n",
       "    <tr>\n",
       "      <th>4</th>\n",
       "      <td>0.276629</td>\n",
       "      <td>-0.016570</td>\n",
       "      <td>-0.115362</td>\n",
       "      <td>-0.998139</td>\n",
       "      <td>-0.980817</td>\n",
       "      <td>-0.990482</td>\n",
       "      <td>-0.998321</td>\n",
       "      <td>-0.979672</td>\n",
       "      <td>-0.990441</td>\n",
       "      <td>-0.942469</td>\n",
       "      <td>...</td>\n",
       "      <td>0.087753</td>\n",
       "      <td>-0.351471</td>\n",
       "      <td>-0.699205</td>\n",
       "      <td>0.123320</td>\n",
       "      <td>0.122542</td>\n",
       "      <td>0.693578</td>\n",
       "      <td>-0.615971</td>\n",
       "      <td>-0.847865</td>\n",
       "      <td>0.185151</td>\n",
       "      <td>-0.043892</td>\n",
       "    </tr>\n",
       "  </tbody>\n",
       "</table>\n",
       "<p>5 rows × 561 columns</p>\n",
       "</div>"
      ],
      "text/plain": [
       "   tBodyAcc-mean()-X  tBodyAcc-mean()-Y  tBodyAcc-mean()-Z  tBodyAcc-std()-X  \\\n",
       "0           0.288585          -0.020294          -0.132905         -0.995279   \n",
       "1           0.278419          -0.016411          -0.123520         -0.998245   \n",
       "2           0.279653          -0.019467          -0.113462         -0.995380   \n",
       "3           0.279174          -0.026201          -0.123283         -0.996091   \n",
       "4           0.276629          -0.016570          -0.115362         -0.998139   \n",
       "\n",
       "   tBodyAcc-std()-Y  tBodyAcc-std()-Z  tBodyAcc-mad()-X  tBodyAcc-mad()-Y  \\\n",
       "0         -0.983111         -0.913526         -0.995112         -0.983185   \n",
       "1         -0.975300         -0.960322         -0.998807         -0.974914   \n",
       "2         -0.967187         -0.978944         -0.996520         -0.963668   \n",
       "3         -0.983403         -0.990675         -0.997099         -0.982750   \n",
       "4         -0.980817         -0.990482         -0.998321         -0.979672   \n",
       "\n",
       "   tBodyAcc-mad()-Z  tBodyAcc-max()-X  ...  fBodyBodyGyroJerkMag-meanFreq()  \\\n",
       "0         -0.923527         -0.934724  ...                        -0.074323   \n",
       "1         -0.957686         -0.943068  ...                         0.158075   \n",
       "2         -0.977469         -0.938692  ...                         0.414503   \n",
       "3         -0.989302         -0.938692  ...                         0.404573   \n",
       "4         -0.990441         -0.942469  ...                         0.087753   \n",
       "\n",
       "   fBodyBodyGyroJerkMag-skewness()  fBodyBodyGyroJerkMag-kurtosis()  \\\n",
       "0                        -0.298676                        -0.710304   \n",
       "1                        -0.595051                        -0.861499   \n",
       "2                        -0.390748                        -0.760104   \n",
       "3                        -0.117290                        -0.482845   \n",
       "4                        -0.351471                        -0.699205   \n",
       "\n",
       "   angle(tBodyAccMean,gravity)  angle(tBodyAccJerkMean),gravityMean)  \\\n",
       "0                    -0.112754                              0.030400   \n",
       "1                     0.053477                             -0.007435   \n",
       "2                    -0.118559                              0.177899   \n",
       "3                    -0.036788                             -0.012892   \n",
       "4                     0.123320                              0.122542   \n",
       "\n",
       "   angle(tBodyGyroMean,gravityMean)  angle(tBodyGyroJerkMean,gravityMean)  \\\n",
       "0                         -0.464761                             -0.018446   \n",
       "1                         -0.732626                              0.703511   \n",
       "2                          0.100699                              0.808529   \n",
       "3                          0.640011                             -0.485366   \n",
       "4                          0.693578                             -0.615971   \n",
       "\n",
       "   angle(X,gravityMean)  angle(Y,gravityMean)  angle(Z,gravityMean)  \n",
       "0             -0.841247              0.179941             -0.058627  \n",
       "1             -0.844788              0.180289             -0.054317  \n",
       "2             -0.848933              0.180637             -0.049118  \n",
       "3             -0.848649              0.181935             -0.047663  \n",
       "4             -0.847865              0.185151             -0.043892  \n",
       "\n",
       "[5 rows x 561 columns]"
      ]
     },
     "execution_count": 72,
     "metadata": {},
     "output_type": "execute_result"
    }
   ],
   "source": [
    "# View the first five rows of the training data\n",
    "X_train.head()"
   ]
  },
  {
   "cell_type": "markdown",
   "id": "4bad1b7e-4548-4885-978a-88d0904427cf",
   "metadata": {},
   "source": [
    "# Step 1.4: Inspect the Labels (Activities)\n",
    "The labels are integers (1 to 6), which correspond to the activity being performed. To make it human-readable, I mapped these integers to the actual activity names using activity_labels.txt."
   ]
  },
  {
   "cell_type": "code",
   "execution_count": 74,
   "id": "df60b849-e618-449b-bb7e-c7e10f58849c",
   "metadata": {},
   "outputs": [
    {
     "name": "stdout",
     "output_type": "stream",
     "text": [
      "                     0\n",
      "0             STANDING\n",
      "1             STANDING\n",
      "2             STANDING\n",
      "3             STANDING\n",
      "4             STANDING\n",
      "...                ...\n",
      "7347  WALKING_UPSTAIRS\n",
      "7348  WALKING_UPSTAIRS\n",
      "7349  WALKING_UPSTAIRS\n",
      "7350  WALKING_UPSTAIRS\n",
      "7351  WALKING_UPSTAIRS\n",
      "\n",
      "[7352 rows x 1 columns]\n"
     ]
    }
   ],
   "source": [
    "# Map activity labels to their corresponding activity names\n",
    "y_train = y_train.replace({1: 'WALKING', 2: 'WALKING_UPSTAIRS', 3: 'WALKING_DOWNSTAIRS', 4: 'SITTING', 5: 'STANDING', 6: 'LAYING'})\n",
    "y_test = y_test.replace({1: 'WALKING', 2: 'WALKING_UPSTAIRS', 3: 'WALKING_DOWNSTAIRS', 4: 'SITTING', 5: 'STANDING', 6: 'LAYING'})\n",
    "\n",
    "#print\n",
    "print(y_train) "
   ]
  },
  {
   "cell_type": "markdown",
   "id": "9bed0cdb-fe88-4246-9ab1-dca63faa8d60",
   "metadata": {},
   "source": [
    "# Step 1.5: Subject Data Exploration\n",
    "We also have the subject IDs, defining which person performed the activity."
   ]
  },
  {
   "cell_type": "code",
   "execution_count": 76,
   "id": "20aed92b-b989-40e3-8cf7-3e0cbc376a83",
   "metadata": {},
   "outputs": [
    {
     "name": "stdout",
     "output_type": "stream",
     "text": [
      "Number of unique subjects in training data: 0    21\n",
      "dtype: int64\n",
      "Number of unique subjects in test data: 0    9\n",
      "dtype: int64\n"
     ]
    },
    {
     "data": {
      "text/plain": [
       "<Axes: title={'center': 'Subject Distribution in Training Data'}, xlabel='0'>"
      ]
     },
     "execution_count": 76,
     "metadata": {},
     "output_type": "execute_result"
    },
    {
     "data": {
      "image/png": "[encoded data removed]",
      "text/plain": [
       "<Figure size 800x400 with 1 Axes>"
      ]
     },
     "metadata": {},
     "output_type": "display_data"
    }
   ],
   "source": [
    "# Check how many unique subjects there are in the dataset\n",
    "print(f\"Number of unique subjects in training data: {subject_train.nunique()}\")\n",
    "print(f\"Number of unique subjects in test data: {subject_test.nunique()}\")\n",
    "\n",
    "# Check the distribution of subjects in the training data\n",
    "subject_train.value_counts().plot(kind='bar', title='Subject Distribution in Training Data', figsize=(8, 4))"
   ]
  },
  {
   "cell_type": "markdown",
   "id": "6d83ee28-440c-4917-9b97-1c8fac1a95c1",
   "metadata": {},
   "source": [
    "# Step 1.6 Distribution of Activities in Training Data:\n",
    "Visualize the distribution of activities to see if they are balanced or imbalanced."
   ]
  },
  {
   "cell_type": "code",
   "execution_count": 113,
   "id": "13f759cd-1381-4b9a-9afd-b822f418c1f4",
   "metadata": {},
   "outputs": [
    {
     "data": {
      "image/png": "[encoded data removed]",
      "text/plain": [
       "<Figure size 800x400 with 1 Axes>"
      ]
     },
     "metadata": {},
     "output_type": "display_data"
    }
   ],
   "source": [
    "# Plot the distribution of activities in the training data\n",
    "activity_counts = y_train.value_counts()  # Count occurrences of each label\n",
    "activity_counts.plot(kind='bar', figsize=(8, 4), color='green')\n",
    "plt.title('Distribution of Activities in Training Data')\n",
    "plt.xlabel('Activity')\n",
    "plt.ylabel('Count')\n",
    "plt.xticks(rotation=45)\n",
    "plt.show()"
   ]
  },
  {
   "cell_type": "markdown",
   "id": "f0df0e31-c065-490f-a1b2-ac9e42b0c609",
   "metadata": {},
   "source": [
    "# Step 1.7: Check for Missing Values\n",
    "Check for missing data"
   ]
  },
  {
   "cell_type": "code",
   "execution_count": 117,
   "id": "459e13fe-ffc8-4247-a842-e5231086cc1b",
   "metadata": {},
   "outputs": [
    {
     "name": "stdout",
     "output_type": "stream",
     "text": [
      "feature_name\n",
      "tBodyAcc-mean()-X                       0\n",
      "tBodyAcc-mean()-Y                       0\n",
      "tBodyAcc-mean()-Z                       0\n",
      "tBodyAcc-std()-X                        0\n",
      "tBodyAcc-std()-Y                        0\n",
      "                                       ..\n",
      "angle(tBodyGyroMean,gravityMean)        0\n",
      "angle(tBodyGyroJerkMean,gravityMean)    0\n",
      "angle(X,gravityMean)                    0\n",
      "angle(Y,gravityMean)                    0\n",
      "angle(Z,gravityMean)                    0\n",
      "Length: 561, dtype: int64\n",
      "tBodyAcc-mean()-X                       0\n",
      "tBodyAcc-mean()-Y                       0\n",
      "tBodyAcc-mean()-Z                       0\n",
      "tBodyAcc-std()-X                        0\n",
      "tBodyAcc-std()-Y                        0\n",
      "                                       ..\n",
      "angle(tBodyGyroMean,gravityMean)        0\n",
      "angle(tBodyGyroJerkMean,gravityMean)    0\n",
      "angle(X,gravityMean)                    0\n",
      "angle(Y,gravityMean)                    0\n",
      "angle(Z,gravityMean)                    0\n",
      "Length: 561, dtype: int64\n"
     ]
    }
   ],
   "source": [
    "# Check for missing values in the training data\n",
    "print(X_train.isnull().sum())\n",
    "print(X_test.isnull().sum())"
   ]
  }
 ],
 "metadata": {
  "kernelspec": {
   "display_name": "Python 3 (ipykernel)",
   "language": "python",
   "name": "python3"
  },
  "language_info": {
   "codemirror_mode": {
    "name": "ipython",
    "version": 3
   },
   "file_extension": ".py",
   "mimetype": "text/x-python",
   "name": "python",
   "nbconvert_exporter": "python",
   "pygments_lexer": "ipython3",
   "version": "3.12.7"
  }
 },
 "nbformat": 4,
 "nbformat_minor": 5
}
